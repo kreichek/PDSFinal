{
 "cells": [
  {
   "cell_type": "code",
   "execution_count": 2,
   "metadata": {
    "collapsed": false
   },
   "outputs": [
    {
     "ename": "RuntimeError",
     "evalue": "module compiled against API version 0xa but this version of numpy is 0x9",
     "output_type": "error",
     "traceback": [
      "\u001b[0;31m---------------------------------------------------------------------------\u001b[0m",
      "\u001b[0;31mRuntimeError\u001b[0m                              Traceback (most recent call last)",
      "\u001b[0;31mRuntimeError\u001b[0m: module compiled against API version 0xa but this version of numpy is 0x9"
     ]
    },
    {
     "ename": "ImportError",
     "evalue": "numpy.core.multiarray failed to import",
     "output_type": "error",
     "traceback": [
      "\u001b[0;31m---------------------------------------------------------------------------\u001b[0m",
      "\u001b[0;31mImportError\u001b[0m                               Traceback (most recent call last)",
      "\u001b[0;32m<ipython-input-2-cb7e8195a09d>\u001b[0m in \u001b[0;36m<module>\u001b[0;34m()\u001b[0m\n\u001b[1;32m      5\u001b[0m \u001b[0;32mimport\u001b[0m \u001b[0mcPickle\u001b[0m \u001b[0;32mas\u001b[0m \u001b[0mpickle\u001b[0m\u001b[0;34m\u001b[0m\u001b[0m\n\u001b[1;32m      6\u001b[0m \u001b[0;32mimport\u001b[0m \u001b[0mnumpy\u001b[0m \u001b[0;32mas\u001b[0m \u001b[0mnp\u001b[0m\u001b[0;34m\u001b[0m\u001b[0m\n\u001b[0;32m----> 7\u001b[0;31m \u001b[0;32mimport\u001b[0m \u001b[0mmatplotlib\u001b[0m\u001b[0;34m.\u001b[0m\u001b[0mpyplot\u001b[0m \u001b[0;32mas\u001b[0m \u001b[0mplt\u001b[0m\u001b[0;34m\u001b[0m\u001b[0m\n\u001b[0m\u001b[1;32m      8\u001b[0m \u001b[0;32mimport\u001b[0m \u001b[0mre\u001b[0m\u001b[0;34m\u001b[0m\u001b[0m\n\u001b[1;32m      9\u001b[0m \u001b[0;32mimport\u001b[0m \u001b[0mrandom\u001b[0m\u001b[0;34m\u001b[0m\u001b[0m\n",
      "\u001b[0;32m/Users/kevinreichek/anaconda/lib/python2.7/site-packages/matplotlib/pyplot.py\u001b[0m in \u001b[0;36m<module>\u001b[0;34m()\u001b[0m\n\u001b[1;32m     27\u001b[0m \u001b[0;32mfrom\u001b[0m \u001b[0mcycler\u001b[0m \u001b[0;32mimport\u001b[0m \u001b[0mcycler\u001b[0m\u001b[0;34m\u001b[0m\u001b[0m\n\u001b[1;32m     28\u001b[0m \u001b[0;32mimport\u001b[0m \u001b[0mmatplotlib\u001b[0m\u001b[0;34m\u001b[0m\u001b[0m\n\u001b[0;32m---> 29\u001b[0;31m \u001b[0;32mimport\u001b[0m \u001b[0mmatplotlib\u001b[0m\u001b[0;34m.\u001b[0m\u001b[0mcolorbar\u001b[0m\u001b[0;34m\u001b[0m\u001b[0m\n\u001b[0m\u001b[1;32m     30\u001b[0m \u001b[0;32mfrom\u001b[0m \u001b[0mmatplotlib\u001b[0m \u001b[0;32mimport\u001b[0m \u001b[0mstyle\u001b[0m\u001b[0;34m\u001b[0m\u001b[0m\n\u001b[1;32m     31\u001b[0m \u001b[0;32mfrom\u001b[0m \u001b[0mmatplotlib\u001b[0m \u001b[0;32mimport\u001b[0m \u001b[0m_pylab_helpers\u001b[0m\u001b[0;34m,\u001b[0m \u001b[0minteractive\u001b[0m\u001b[0;34m\u001b[0m\u001b[0m\n",
      "\u001b[0;32m/Users/kevinreichek/anaconda/lib/python2.7/site-packages/matplotlib/colorbar.py\u001b[0m in \u001b[0;36m<module>\u001b[0;34m()\u001b[0m\n\u001b[1;32m     30\u001b[0m \u001b[0;34m\u001b[0m\u001b[0m\n\u001b[1;32m     31\u001b[0m \u001b[0;32mimport\u001b[0m \u001b[0mmatplotlib\u001b[0m \u001b[0;32mas\u001b[0m \u001b[0mmpl\u001b[0m\u001b[0;34m\u001b[0m\u001b[0m\n\u001b[0;32m---> 32\u001b[0;31m \u001b[0;32mimport\u001b[0m \u001b[0mmatplotlib\u001b[0m\u001b[0;34m.\u001b[0m\u001b[0martist\u001b[0m \u001b[0;32mas\u001b[0m \u001b[0mmartist\u001b[0m\u001b[0;34m\u001b[0m\u001b[0m\n\u001b[0m\u001b[1;32m     33\u001b[0m \u001b[0;32mimport\u001b[0m \u001b[0mmatplotlib\u001b[0m\u001b[0;34m.\u001b[0m\u001b[0mcbook\u001b[0m \u001b[0;32mas\u001b[0m \u001b[0mcbook\u001b[0m\u001b[0;34m\u001b[0m\u001b[0m\n\u001b[1;32m     34\u001b[0m \u001b[0;32mimport\u001b[0m \u001b[0mmatplotlib\u001b[0m\u001b[0;34m.\u001b[0m\u001b[0mcollections\u001b[0m \u001b[0;32mas\u001b[0m \u001b[0mcollections\u001b[0m\u001b[0;34m\u001b[0m\u001b[0m\n",
      "\u001b[0;32m/Users/kevinreichek/anaconda/lib/python2.7/site-packages/matplotlib/artist.py\u001b[0m in \u001b[0;36m<module>\u001b[0;34m()\u001b[0m\n\u001b[1;32m     12\u001b[0m \u001b[0;32mfrom\u001b[0m \u001b[0mmatplotlib\u001b[0m\u001b[0;34m.\u001b[0m\u001b[0mcbook\u001b[0m \u001b[0;32mimport\u001b[0m \u001b[0mmplDeprecation\u001b[0m\u001b[0;34m\u001b[0m\u001b[0m\n\u001b[1;32m     13\u001b[0m \u001b[0;32mfrom\u001b[0m \u001b[0mmatplotlib\u001b[0m \u001b[0;32mimport\u001b[0m \u001b[0mdocstring\u001b[0m\u001b[0;34m,\u001b[0m \u001b[0mrcParams\u001b[0m\u001b[0;34m\u001b[0m\u001b[0m\n\u001b[0;32m---> 14\u001b[0;31m from .transforms import (Bbox, IdentityTransform, TransformedBbox,\n\u001b[0m\u001b[1;32m     15\u001b[0m                          TransformedPath, Transform)\n\u001b[1;32m     16\u001b[0m \u001b[0;32mfrom\u001b[0m \u001b[0;34m.\u001b[0m\u001b[0mpath\u001b[0m \u001b[0;32mimport\u001b[0m \u001b[0mPath\u001b[0m\u001b[0;34m\u001b[0m\u001b[0m\n",
      "\u001b[0;32m/Users/kevinreichek/anaconda/lib/python2.7/site-packages/matplotlib/transforms.py\u001b[0m in \u001b[0;36m<module>\u001b[0;34m()\u001b[0m\n\u001b[1;32m     37\u001b[0m \u001b[0;32mimport\u001b[0m \u001b[0mnumpy\u001b[0m \u001b[0;32mas\u001b[0m \u001b[0mnp\u001b[0m\u001b[0;34m\u001b[0m\u001b[0m\n\u001b[1;32m     38\u001b[0m \u001b[0;32mfrom\u001b[0m \u001b[0mnumpy\u001b[0m \u001b[0;32mimport\u001b[0m \u001b[0mma\u001b[0m\u001b[0;34m\u001b[0m\u001b[0m\n\u001b[0;32m---> 39\u001b[0;31m from matplotlib._path import (affine_transform, count_bboxes_overlapping_bbox,\n\u001b[0m\u001b[1;32m     40\u001b[0m     update_path_extents)\n\u001b[1;32m     41\u001b[0m \u001b[0;32mfrom\u001b[0m \u001b[0mnumpy\u001b[0m\u001b[0;34m.\u001b[0m\u001b[0mlinalg\u001b[0m \u001b[0;32mimport\u001b[0m \u001b[0minv\u001b[0m\u001b[0;34m\u001b[0m\u001b[0m\n",
      "\u001b[0;31mImportError\u001b[0m: numpy.core.multiarray failed to import"
     ]
    }
   ],
   "source": [
    "# setup library imports\n",
    "import io, time, json\n",
    "import requests\n",
    "from bs4 import BeautifulSoup\n",
    "import cPickle as pickle\n",
    "import numpy as np\n",
    "import matplotlib.pyplot as plt\n",
    "import re\n",
    "import random\n",
    "\n",
    "# import yelp client library\n",
    "from yelp.client import Client\n",
    "from yelp.oauth1_authenticator import Oauth1Authenticator\n"
   ]
  },
  {
   "cell_type": "code",
   "execution_count": 3,
   "metadata": {
    "collapsed": true
   },
   "outputs": [],
   "source": [
    "def authenticate(config_filepath):\n",
    "    \"\"\"\n",
    "    Create an authenticated yelp-python client.\n",
    "\n",
    "    Args:\n",
    "        config_filepath (string): relative path (from this file) to a file with your Yelp credentials\n",
    "\n",
    "    Returns:\n",
    "        client (yelp.client.Client): authenticated instance of a yelp.Client\n",
    "    \"\"\"\n",
    "    \n",
    "    creds = json.load(open(config_filepath))\n",
    "    auth = Oauth1Authenticator(**creds)\n",
    "    return Client(auth)"
   ]
  },
  {
   "cell_type": "code",
   "execution_count": 4,
   "metadata": {
    "collapsed": true
   },
   "outputs": [],
   "source": [
    "def yelp_search(client, query):\n",
    "    \"\"\"\n",
    "    Make an authenticated request to the Yelp API.\n",
    "\n",
    "    Args:\n",
    "        query (string): Search term\n",
    "\n",
    "    Returns:\n",
    "        total (integer): total number of businesses on Yelp corresponding to the query\n",
    "        businesses (list): list of yelp.obj.business.Business objects\n",
    "    \"\"\"\n",
    "    \n",
    "    # Write solution here\n",
    "    res = client.search(query)\n",
    "    return (res.total, res.businesses)"
   ]
  },
  {
   "cell_type": "code",
   "execution_count": 5,
   "metadata": {
    "collapsed": true
   },
   "outputs": [],
   "source": [
    "def all_restaurants(client, query, food):\n",
    "    \"\"\"\n",
    "    Retrieve ALL the restaurants on Yelp for a given query.\n",
    "\n",
    "    Args:\n",
    "        query (string): Search term\n",
    "\n",
    "    Returns:\n",
    "        results (list): list of yelp.obj.business.Business objects\n",
    "    \"\"\"\n",
    "    B = []\n",
    "    while 1:\n",
    "        try:\n",
    "            res = client.search(query,**{\"category_filter\":food,\"offset\" : len(B)})\n",
    "            if not res.businesses:\n",
    "                return B\n",
    "            B += res.businesses\n",
    "#            time.sleep(.1)\n",
    "        except:\n",
    "            return B"
   ]
  },
  {
   "cell_type": "code",
   "execution_count": 6,
   "metadata": {
    "collapsed": true
   },
   "outputs": [],
   "source": [
    "def get_cities_info(client, food, cities):\n",
    "    d = {}\n",
    "    for city in cities:\n",
    "        print \"requesting: \", city,\n",
    "        d[\"%s_%s\"%(city,food)] = all_restaurants(client,city,food)\n",
    "        print \": done\"\n",
    "    #d = {(\"%s_%s\"%(city,food)):all_restaurants(client,city,food) for city in cities}\n",
    "    valids = filter(lambda x: len(d[x]) >= 10, d)\n",
    "    res = {v:d[v] for v in valids}\n",
    "    return res\n",
    "\n",
    "def get_all_cities():\n",
    "    with open(\"cities.txt\",'r') as f:\n",
    "        lines = map(lambda l: \", \".join(l.rstrip().split(\"\\t\")[1:3]),f.readlines())\n",
    "        return lines\n",
    "    \n",
    "def load_pickle(filename):\n",
    "    with open(filename, 'rb') as f:\n",
    "        return pickle.load(f)\n",
    "def save_pickle(filename, data):\n",
    "    with open(filename, 'wb') as f:\n",
    "        pickle.dump(data, f)\n",
    "        \n",
    "def get_city_data(data, city, foodtype):\n",
    "    '''returns dictionary:\n",
    "        avg_review\n",
    "        num_restaurants\n",
    "        city\n",
    "    '''\n",
    "    result = {}\n",
    "    key = \"%s_%s\"%(city,foodtype)\n",
    "    info = data[key]\n",
    "    result[\"num_restaurants\"] = len(info)\n",
    "    result[\"avg_review\"] = sum(map(lambda x: x.rating, info))/float(len(info))\n",
    "    return result\n",
    "    \n",
    "def get_all_city_data(data):\n",
    "    result = {}\n",
    "    for city_food in data:\n",
    "        city = city_food.split(\"_\")[0]\n",
    "        foodtype = city_food.split(\"_\")[1]\n",
    "        result[city] = get_city_data(data,city,foodtype)\n",
    "    return result\n",
    "\n",
    "def clean_business(b):\n",
    "    valids = [\"categories\", \"location\", \"name\", \"rating\", \"review_count\",\"url\"]\n",
    "    return {x : b.__dict__[x] for x in valids}\n",
    "    \n",
    "    \n",
    "def clean_data(data):\n",
    "    new_data = {}\n",
    "    for city in data:\n",
    "        new_data[city] = map(clean_business, data[city])\n",
    "    return new_data\n",
    "\n",
    "def add_feature_info(data, offset):\n",
    "    c = offset+1\n",
    "    for d in data[offset:]:\n",
    "        print \"%d of %d\"%(c,len(data))\n",
    "        features = scrapeYelpFeatures(d[\"url\"])\n",
    "        d.update(features)\n",
    "        c += 1\n",
    "        \n",
    "def get_feature_set(datalist):\n",
    "    features = set()\n",
    "    for f in datalist:\n",
    "        features |= set(f)\n",
    "    return features\n",
    "\n",
    "def fix_features(datalist):\n",
    "    features = get_feature_set(datalist)\n",
    "    for d in datalist:\n",
    "        for f in features:\n",
    "            if f not in d:\n",
    "                d[f] = None\n",
    "\n",
    "def get_random_data(data, n):\n",
    "    datalist = []\n",
    "    for d in data:\n",
    "        datalist += data[d]\n",
    "    return random.sample(datalist,n)"
   ]
  },
  {
   "cell_type": "code",
   "execution_count": 7,
   "metadata": {
    "collapsed": true
   },
   "outputs": [],
   "source": [
    "def retrieve_html(url):\n",
    "    html = requests.get(url)\n",
    "    return (html.status_code, html.content)\n",
    "\n",
    "# Gets restaurant features from yelp html given a url for a restaurants page\n",
    "# returns a dictionary of the available features on the page (keys) with their \n",
    "# corresponding values\n",
    "def scrapeYelpFeatures(url):\n",
    "    (yolo, html) = retrieve_html(url)\n",
    "    \n",
    "    try:\n",
    "        imgs =  re.search(r\"See all [0-9]+\", html).group()\n",
    "        imgs = [int(s) for s in imgs.split() if s.isdigit()][0]\n",
    "    except:\n",
    "        imgs = 0\n",
    "    root = BeautifulSoup(html, \"html.parser\")\n",
    "    s = root.findAll(\"div\", {'class' : 'ywidget'}) #, { \"class\" : \"review review--with-sidebar\" })\n",
    "    #s = root.find(\"h3\", {'name': 'More business info'})\n",
    "    \n",
    "    biz_features = {\"number_of_images\" : imgs}\n",
    "    for i in s:\n",
    "        h3_elem = i.find(\"h3\")\n",
    "        if h3_elem != None:\n",
    "            if 'More business info' in h3_elem:\n",
    "                biz_attr = i.find('ul', {'class' : 'ylist'}).findAll('dt', {'class' : 'attribute-key'})\n",
    "                biz_val = i.find('ul', {'class' : 'ylist'}).findAll('dd')\n",
    "\n",
    "                for (l,r) in zip(biz_attr, biz_val):\n",
    "                    #print l.next_element.strip(), '====', r.next_element.strip()\n",
    "                    biz_features[l.next_element.strip()] = r.next_element.strip()\n",
    "    return biz_features"
   ]
  },
  {
   "cell_type": "code",
   "execution_count": 14,
   "metadata": {
    "collapsed": false
   },
   "outputs": [],
   "source": [
    "info = load_pickle(\"Anaheim, California features.pkl\")"
   ]
  },
  {
   "cell_type": "code",
   "execution_count": null,
   "metadata": {
    "collapsed": true
   },
   "outputs": [],
   "source": [
    "client = authenticate(\"config_secret.json\")"
   ]
  },
  {
   "cell_type": "code",
   "execution_count": 98,
   "metadata": {
    "collapsed": false
   },
   "outputs": [],
   "source": [
    "#datalist = data['Anaheim, California'][:]\n",
    "#print datalist[999]\n",
    "#add_feature_info(datalist,268)\n",
    "#save_pickle(\"Anaheim, California features.pkl\", datalist)"
   ]
  },
  {
   "cell_type": "code",
   "execution_count": 104,
   "metadata": {
    "collapsed": false
   },
   "outputs": [],
   "source": [
    "#save_pickle(\"Anaheim, California features.pkl\", datalist)"
   ]
  },
  {
   "cell_type": "code",
   "execution_count": 22,
   "metadata": {
    "collapsed": false
   },
   "outputs": [],
   "source": [
    "data = load_pickle(\"cities_all_restaurants_new.pkl\")"
   ]
  },
  {
   "cell_type": "code",
   "execution_count": 30,
   "metadata": {
    "collapsed": false
   },
   "outputs": [],
   "source": [
    "datalist = get_random_data(data,50000)[:]"
   ]
  },
  {
   "cell_type": "code",
   "execution_count": null,
   "metadata": {
    "collapsed": true
   },
   "outputs": [],
   "source": [
    "add_feature_info(datalist,800)"
   ]
  },
  {
   "cell_type": "code",
   "execution_count": 34,
   "metadata": {
    "collapsed": true
   },
   "outputs": [],
   "source": [
    "save_pickle(\"random.pkl\", datalist[25000:25000+12500])"
   ]
  },
  {
   "cell_type": "code",
   "execution_count": 8,
   "metadata": {
    "collapsed": false
   },
   "outputs": [],
   "source": [
    "datalist = load_pickle(\"kevin.pkl\")"
   ]
  },
  {
   "cell_type": "code",
   "execution_count": null,
   "metadata": {
    "collapsed": false
   },
   "outputs": [
    {
     "name": "stdout",
     "output_type": "stream",
     "text": [
      "969 of 12500\n",
      "970 of 12500\n",
      "971 of 12500\n",
      "972 of 12500\n",
      "973 of 12500\n",
      "974 of 12500\n",
      "975 of 12500\n",
      "976 of 12500\n",
      "977 of 12500\n",
      "978 of 12500\n",
      "979 of 12500\n",
      "980 of 12500\n"
     ]
    }
   ],
   "source": [
    "add_feature_info(datalist, 968)"
   ]
  },
  {
   "cell_type": "code",
   "execution_count": 10,
   "metadata": {
    "collapsed": true
   },
   "outputs": [],
   "source": [
    "save_pickle(\"kevin_processed.pkl\", datalist[:968])"
   ]
  },
  {
   "cell_type": "code",
   "execution_count": null,
   "metadata": {
    "collapsed": true
   },
   "outputs": [],
   "source": []
  }
 ],
 "metadata": {
  "anaconda-cloud": {},
  "kernelspec": {
   "display_name": "Python [Root]",
   "language": "python",
   "name": "Python [Root]"
  },
  "language_info": {
   "codemirror_mode": {
    "name": "ipython",
    "version": 2
   },
   "file_extension": ".py",
   "mimetype": "text/x-python",
   "name": "python",
   "nbconvert_exporter": "python",
   "pygments_lexer": "ipython2",
   "version": "2.7.12"
  }
 },
 "nbformat": 4,
 "nbformat_minor": 1
}
