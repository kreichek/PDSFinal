{
 "cells": [
  {
   "cell_type": "markdown",
   "metadata": {},
   "source": [
    "# Determining True Rating of Yelp Restaurants\n",
    "\n",
    "Through data science analysis we aim to provide insight about the \"true\" rating of a restaurant on Yelp. We define the \"true\" rating to be the rating that a restaurant will converge to over time based upon various features of the restaurant we have scraped from Yelp through web-based scraping with BeatifulSoup. We used the full data science pipeline, beginning with data collection, then data processing, then data exploration and visualization, then finally data analysis with the use of Machine Learning techniques through the sklearn library. \n",
    "\n",
    "\n",
    "There has been previous work on making use of the Yelp dataset for interesting analytics. Most of the high quality work is documented through the Yelp Data Challenge, which provides cash prizes for the best research papers using data from Yelp. Most previous research in the area of predicting the review of a restaurant seems to be primarily based on Natural Language Processing techniques on the text of the reviews, alongside other information received from the Yelp API. Rather than focusing on text, we wanted to see if we could make these predictions off of features included in all restaurants, even those with very few reviews, as a way to be able to predict the “true” rating of the restaurant. Therefore, we had to look for features outside of the Yelp API, specifically getting many features from the “More Business Info” section found on the each Yelp restaurant page through manual web scraping. Features used within our model focus on the business info provided by a restaurant, an example can be seen here from https://www.yelp.com/biz/gaucho-parrilla-argentina-pittsburgh?osq=Restaurants&search_key=54684\n",
    "\n",
    "![Feature Example](https://i.imgur.com/EFe4a2B.png)\n",
    "\n",
    "We feel that answering this question will be particularly useful for new restaurants with few ratings that are curious as to what their true rating will be over time given features about their restaurant that they already can know without many reviews. "
   ]
  },
  {
   "cell_type": "markdown",
   "metadata": {},
   "source": [
    "## Imports\n",
    "\n",
    "We used various libraries for this project, which are all included in the imports section below. "
   ]
  },
  {
   "cell_type": "code",
   "execution_count": 72,
   "metadata": {
    "collapsed": true
   },
   "outputs": [],
   "source": [
    "import requests\n",
    "from bs4 import BeautifulSoup\n",
    "import cPickle as pickle\n",
    "import matplotlib.pyplot as plt\n",
    "from yelp.client import Client\n",
    "from yelp.oauth1_authenticator import Oauth1Authenticator\n",
    "import folium\n",
    "from sklearn import svm\n",
    "from sklearn.ensemble import RandomForestClassifier\n",
    "from sklearn.linear_model import LogisticRegression\n",
    "from sklearn.decomposition import PCA\n",
    "from collections import Counter\n",
    "import sklearn.cross_validation as cv\n",
    "import random\n",
    "import numpy as np\n",
    "from copy import deepcopy\n",
    "from collections import Counter"
   ]
  },
  {
   "cell_type": "markdown",
   "metadata": {},
   "source": [
    "## Data Collection\n",
    "\n",
    "We collected the dataset we will analyze with the use of the Yelp API and Beautiful Soup. We also used the python library Pickle to serialize our dataset so we don't have to continuously query the Yelp API to retrieve our data set. \n",
    "\n",
    "We first used the Yelp API to scrape at most 1000 restaurants (because of limitations of the Yelp API) from the top 280 cities in America (stored in cities.txt) by population. We created functions for basic functionalities such as saving a pickle file, loading a pickle file, authenticating on Yelp, getting all restaurant info, getting all restaurants in a city, getting a list of all the top 280 cities, grabbing the relevant fields from each restaurant, cleaning the data, and finally a function to grab all the data using all the functions just described. \n",
    "\n",
    "Due to the limitations set by the Yelp API, there were significant challenges in both the data collection and data cleaning portions of this project. One example of these challenges is that the Yelp API returns a significant amount of unnecessary data making collection very slow. Efforts were made in allowing for interruption of the data collection, from either system shutdown, or yelp service interruption. Additionally, we needed to make a second pass requesting the HTML for each url provided by the API to gain access to important features available only through the website. All data is collected, cleaned, and stored in python Pickle objects to reduce load on Yelp, as well as reduce time to load data into memory. We queried and scraped the Yelp website periodically to retrieve a sufficient amount of data points without getting limited for making too many http requests.\n",
    "\n",
    "The code used for our data collection can be seen in the appendix at the end of the notebook. "
   ]
  },
  {
   "cell_type": "markdown",
   "metadata": {
    "collapsed": false
   },
   "source": [
    "## Data Processing\n",
    "\n",
    "To use the classification tools within scikit learn we had to transform and map the features we obtained from Yelp to inputs matching that of the API of the library. The data we collected from Yelp, in particular, the business info was a wide assortment of string based values and Yelp class objects. For instance, the feature Wifi can take string values such as yes, no, free, paid, etc. Since a lot of these string features were mainly binary and discrete values over a small range we created a mapping to transform these values into integers. To do so, we discovered the set of all possible values of each feature and mapped each one to a unique integer value within the context of that feature. Similarly with Yelp class objects we were able to create a directed one-to-one mapping to integers to which we transformed the dataset. Discrete integer valued features were simply kept the same. Through this system we were able to adapt the features we collected to be directly compatible with the classification library. \n",
    "\n",
    "During the above process we decided to exclude some of the gathered features because of apparent subjectivity through open ended responses. What we found was that for these certain text based features the number of possible values they could take varied greatly and did not provide much discernable insight between restuarants. A strong example of this is the way parking is described in many different ways: valet, street, validated, private lot, garage, etc. Each of which could appear multiple times in different combinations for a single restaurant. Since transforming these features to discrete values would provide poor insight as to the rating of the restaurant, we decided to discard them. Another issue was that since we were operating with sometimes partial data from restaurants we had found some of the features we gathered to be missing (None valued). To deal with this we simply created a separate discrete valued bin to group these values into. The intuition behind this being that the absence of data could also provide insight about the restaurant's quality."
   ]
  },
  {
   "cell_type": "code",
   "execution_count": 7,
   "metadata": {
    "collapsed": false
   },
   "outputs": [],
   "source": [
    "data = load_pickle(\"random.pkl\")\n",
    "\n",
    "# Input is a list of dictionarys mapping features to values (defined in pickle) \n",
    "def transform_to_XY(info):\n",
    "    X = []\n",
    "    Y = []\n",
    "    feature_names = [i for i in info[0].keys()]\n",
    "    total_vals = {}\n",
    "    for x in feature_names:\n",
    "        total_vals[x] = set()\n",
    "    \n",
    "    to_ignore = set(['name', 'rating', 'location', 'categories', 'url', 'parking', 'Best Nights','Good For'])\n",
    "    \n",
    "    for res in info:\n",
    "        for k,v in res.items():\n",
    "            if k not in to_ignore: # Some features are of list type or already floats, or not primitive types\n",
    "                total_vals[k].add(v)\n",
    "                \n",
    "    feature_value_map = {}\n",
    "    for k,v in total_vals.items():\n",
    "        z = 0\n",
    "        feature_value_map[k] = {}\n",
    "        for value in v:\n",
    "            feature_value_map[k][value] = z\n",
    "            z += 1\n",
    "            \n",
    "    features = copy.deepcopy(info)\n",
    "    nones = []\n",
    "    for b in features:\n",
    "        b[\"nones\"] = sum([1 if b[f] == None else 0 for f in b])\n",
    "        nones.append(44 - b[\"nones\"])\n",
    "        for f in to_ignore:\n",
    "            b.pop(f, None)\n",
    "        for f in b:\n",
    "            if f not in to_ignore and f in feature_value_map and b[f] in feature_value_map[f]:\n",
    "                if f not in [\"review_count\",'number_of_images']:\n",
    "                    b[f] = feature_value_map[f][b[f]]\n",
    "    features = [[d[f] for f in sorted(d.keys())] for d in features]\n",
    "    return (features, [f[\"rating\"]*2 for f in info], nones)\n",
    "\n",
    "transformed = transform_to_XY(data)"
   ]
  },
  {
   "cell_type": "markdown",
   "metadata": {},
   "source": [
    "## Data Exploration and Visualization\n",
    "\n",
    "Our final data set has a total of 6308 restaurants that were randomly sampled from our much larger data set of restaurants from each of the top 280 cities in the United States.\n",
    "\n",
    "We will now explore and visualize this dataset."
   ]
  },
  {
   "cell_type": "code",
   "execution_count": 22,
   "metadata": {
    "collapsed": false,
    "scrolled": false
   },
   "outputs": [
    {
     "data": {
      "image/png": "[encoded data removed]",
      "text/plain": [
       "<matplotlib.figure.Figure at 0x1e995278>"
      ]
     },
     "metadata": {},
     "output_type": "display_data"
    }
   ],
   "source": [
    "%matplotlib inline\n",
    "        \n",
    "ratings = Counter(map(lambda x : x [\"rating\"], data))\n",
    "rating_numbers = sorted(ratings)\n",
    "rating_counts = []\n",
    "for i in xrange(len(rating_numbers)):\n",
    "    rating_counts.append(ratings[rating_numbers[i]])\n",
    "plt.bar(rating_numbers, rating_counts, 0.5, color=\"blue\", align = \"center\")\n",
    "plt.xlabel(\"Ratings\")\n",
    "plt.ylabel(\"Number of Restaurants\")\n",
    "plt.title(\"Yelp Ratings Distribution\")\n",
    "plt.show()"
   ]
  },
  {
   "cell_type": "markdown",
   "metadata": {},
   "source": [
    "We will first explore the distribution of the variable we are trying to predict, Yelp Rating. The distribution of the Yelp Ratings in our data set is centered around 4 stars, with a slight leftward skew. The mean of the Yelp Rating is 3.7. The standard deviation of the Yelp Rating is 0.76. The minimum is 1 and the maximum is 5. We have data for each possible bucket in half star increments, for a total of 10 possible buckets. This distribution results in a strong prior, which we took note of when performing our data analysis in the next section."
   ]
  },
  {
   "cell_type": "code",
   "execution_count": 37,
   "metadata": {
    "collapsed": false
   },
   "outputs": [
    {
     "data": {
      "image/png": "[encoded data removed]",
      "text/plain": [
       "<matplotlib.figure.Figure at 0x6ed7b38>"
      ]
     },
     "metadata": {},
     "output_type": "display_data"
    }
   ],
   "source": [
    "number_of_reviews = []\n",
    "for i in xrange(len(data)):\n",
    "    if (data[i][\"review_count\"] <= 500):\n",
    "        number_of_reviews.append(data[i][\"review_count\"])\n",
    "plt.hist(number_of_reviews, 20)\n",
    "plt.xlabel(\"Number of Reviews\")\n",
    "plt.ylabel(\"Number of Restaurants\")\n",
    "plt.title(\"Number of Reviews For Restaurants\")\n",
    "plt.show()"
   ]
  },
  {
   "cell_type": "markdown",
   "metadata": {},
   "source": [
    "The distribution for the number of reviews is heavily skewed toward the right. It is so heavily skewed toward the right, we only visualized those restaurants with less than 500 reviews, as otherwise the visualization was difficult to interpret due to the length of the tail. The mean number of reviews is 121.8 reviews. The standard deviation of reviews is 247.9 reviews. The min is 1 review. The max is 4455 reviews. When performing our analysis, we should be aware that the restaurants with little reviews is much noisier data and should be considered being filtered out when training our model as the we are not certain as to whether the labels are truly accurate. "
   ]
  },
  {
   "cell_type": "code",
   "execution_count": 42,
   "metadata": {
    "collapsed": false
   },
   "outputs": [
    {
     "data": {
      "image/png": "[encoded data removed]",
      "text/plain": [
       "<matplotlib.figure.Figure at 0x19d17748>"
      ]
     },
     "metadata": {},
     "output_type": "display_data"
    }
   ],
   "source": [
    "plt.hist(transformed[2], 20)\n",
    "plt.xlabel(\"Number of Features\")\n",
    "plt.ylabel(\"Number of Restaurants\")\n",
    "plt.title(\"Number of Features For Restaurants\")\n",
    "plt.show()"
   ]
  },
  {
   "cell_type": "markdown",
   "metadata": {},
   "source": [
    "Since we scraped primarily from the more business info section, as shown above, we had to deal with missing data from the “More Business Info” section which we scraped many of our features from, but before performing data analysis, we wanted to get a sense of how complete our dataset is. Therefore, we graphed the distribution of the number of features for each restaurant. The distribution is centered around 26 features. The mean is 24.4 features. The standard deviation is 6 features. The min is 7 features. The max is 37 features. Although the number of features varies decently by restaurant, overall, we still have enough features to model. "
   ]
  },
  {
   "cell_type": "code",
   "execution_count": 8,
   "metadata": {
    "collapsed": false
   },
   "outputs": [],
   "source": [
    "locations = []\n",
    "for i in xrange(len(data)):\n",
    "    if data[i][\"location\"] != None and data[i][\"location\"].coordinate != None:\n",
    "        locations.append((data[i][\"location\"].coordinate.__dict__[\"latitude\"], \n",
    "                          data[i][\"location\"].coordinate.__dict__[\"longitude\"]))\n",
    "\n",
    "USMap = folium.Map(location=[39.8282, -98.5795], zoom_start = 4)\n",
    "for location in locations:\n",
    "    latitude = float(location[0])\n",
    "    longitude = float(location[1])\n",
    "    folium.CircleMarker(location=[latitude, longitude], radius=10, color='#3186cc', fill_color='#3186cc').add_to(USMap)\n",
    "USMap.save(\"locations.html\")"
   ]
  },
  {
   "cell_type": "markdown",
   "metadata": {},
   "source": [
    "![Map](https://i.imgur.com/j89NyPC.png)"
   ]
  },
  {
   "cell_type": "code",
   "execution_count": 86,
   "metadata": {
    "collapsed": false
   },
   "outputs": [
    {
     "data": {
      "text/html": [
       "<iframe width=\"100%\" height =\"500\" src=\"locations.html\"/>"
      ],
      "text/plain": [
       "<IPython.core.display.HTML object>"
      ]
     },
     "metadata": {},
     "output_type": "display_data"
    }
   ],
   "source": [
    "%%HTML\n",
    "<iframe width=\"100%\" height =\"500\" src=\"locations.html\"/>"
   ]
  },
  {
   "cell_type": "markdown",
   "metadata": {},
   "source": [
    "Finally, we plotted every restaurant of our data set on a map to get a sense of how they are distributed geographically. We were pleased to find that our restaurants in our data set had a good geographic distribution across the country, including Hawaii and Alaska."
   ]
  },
  {
   "cell_type": "markdown",
   "metadata": {},
   "source": [
    "## Data Analysis"
   ]
  },
  {
   "cell_type": "code",
   "execution_count": 75,
   "metadata": {
    "collapsed": false
   },
   "outputs": [],
   "source": [
    "def baseline(data):\n",
    "    (X, y) = transform_to_XY(data)[:2]\n",
    "    c = Counter(y)\n",
    "    vals = [[x, c[x]/float(len(y))] for x in c]\n",
    "    for i in range(1,len(vals)):\n",
    "        vals[i][1] += vals[i-1][1]\n",
    "    rands = []\n",
    "    for x in range(len(y)):\n",
    "        r = random.random()\n",
    "        i = 0\n",
    "        while r > vals[i][1]:\n",
    "            i += 1\n",
    "        rands.append(vals[i][0])\n",
    "\n",
    "    wrong = 0\n",
    "    dist = 0\n",
    "    for (p,l) in zip(rands,y):\n",
    "        if int(p) != l:\n",
    "            wrong += 1\n",
    "            dist += abs(l-p)/2.0\n",
    "    print \"correct predictions: %f%%\"%((len(y)-wrong)/float(len(y)))\n",
    "    print \"average error: %f\"%(dist/wrong)\n",
    "\n",
    "def cross_val(model, folds):\n",
    "    (X, y) = transform_to_XY(infotrain)[:2]\n",
    "    pca = PCA(n_components='mle')\n",
    "    pca.fit(X)\n",
    "    X = pca.transform(X)\n",
    "    scores = cv.cross_val_score(model,X,y, cv = folds)\n",
    "    print(\"Accuracy: %0.2f (+/- %0.2f)\" % (scores.mean(), scores.std() * 2))"
   ]
  },
  {
   "cell_type": "code",
   "execution_count": 69,
   "metadata": {
    "collapsed": false
   },
   "outputs": [
    {
     "name": "stdout",
     "output_type": "stream",
     "text": [
      "correct predictions: 0.257430%\n",
      "average error: 0.844742\n",
      "Accuracy: 0.41 (+/- 0.08)\n"
     ]
    }
   ],
   "source": [
    "infotrain = filter(lambda x: x[\"review_count\"] > 10, data)\n",
    "model = RandomForestClassifier(n_estimators=100)\n",
    "baseline(infotrain)\n",
    "cross_val(RandomForestClassifier(n_estimators=100), folds = 5)"
   ]
  },
  {
   "cell_type": "markdown",
   "metadata": {},
   "source": [
    "To classify the ratings of the the restaurants from our data we looked into performing classification with support vector machines (SVM) with various kernels, Logistic Regression, and random forest decision trees. In particular we favored SVM because we believed that our data would be relatively closely clustered between ratings where a sigmoid kernel would perform optimally. Decision Trees through random forest also seemed promising because a lot of our features are binary and in the event of our data being non-linear we could still perform classification well. Lastly we use logistic regression because it is a good baseline approach, which performs nicely if the data is linear. Prior to using these models we also performed Principal Component Analysis (PCA) upon our data set to transform useful features and discard uninsightful features. For instance, the availability of bike parking may not have much influence over the average rating of a restaurant. Keeping these features with low correlation would add noise to our classification so we went on to only include features occurring in the principal components. Lastly we filtered out data points with less than 10 reviews from our training set because the data points with less reviews incorporated a lot of noise into our dataset. Specifically, the absence of reviews indicated that the rating of a restaurant was not conclusive, which is why we omitted such data points from our model.\n",
    "\n",
    "Furthermore, to accurately measure the accuracy of our classification, we performed K-Fold cross validation upon each of the models. Specifically we chunked the dataset into five groups to train and test between them in the cross validation. The motivation behind this is the avoid overfitting and underfitting results by training on a subset of randomly comprehensive or inconclusive data. An example of this being that we accidently train on data concentrated in a particular region of the country rather than diversifying across all regions. We only used five groups within our dataset because we didn’t want to split our dataset into too many pieces due to the limited abundance of 5-star and less than 2-star ratings since certain chunks might retain a majority of these examples if we used more than five groups. \n",
    "\n",
    "Our true baseline in this procedure would be random guessing based upon examples given a weighted distribution of the frequencies of each rating in the training set. We use this baseline to determine the classification insight we provide with comparison to someone randomly guessing based upon priors and to what degree difference there is between the two. The larger the gap between our classification and our baseline, the more likely it is that our data correlates nicely to restaurant ratings and we are able to learn that relationship successfully.\n",
    "\n",
    "Our K-Fold cross validation using 5 folds with a Random Forest Classifier transformed using PCA results in an accuracy rate of 0.48, with a 95% confidence interval of (0.35, 0.61). Our baseline returns an accuracy rate of 0.31. Therefore, we can conclude with a standard hypothesis test that our classifier has a statistically significantly higher accuracy rate than our baseline, meaning that our classifier does better than just randomly guessing off of the prior. "
   ]
  },
  {
   "cell_type": "markdown",
   "metadata": {},
   "source": [
    "## Results and Conclusions\n",
    "\n",
    "In conclusion, we have found that creating a system for accurately predicting a restaurant’s rating simply given the information available through Yelp.com has many challenges that lead to somewhat lower than desired accuracy. Our system is able to correctly identify the exact rating of a restaurant (by the available .5 star increments) about 40% of the time, using Decision Trees. We are satisfied with this result, given the difficulties of finding consistent features that are fairly representative of the restaurant's actual rating and the comparison to our baseline. Overall, we felt the decision of using random forest decision trees with PCA was the best classifier given our features and problem. "
   ]
  },
  {
   "cell_type": "code",
   "execution_count": 85,
   "metadata": {
    "collapsed": false
   },
   "outputs": [
    {
     "name": "stdout",
     "output_type": "stream",
     "text": [
      "[9, 1243, 114, 63]\n",
      "[3.0, 3.5, 4.0, 4.5]\n"
     ]
    },
    {
     "data": {
      "image/png": "[encoded data removed]",
      "text/plain": [
       "<matplotlib.figure.Figure at 0x7ba1780>"
      ]
     },
     "metadata": {},
     "output_type": "display_data"
    }
   ],
   "source": [
    "def trainModelToPredictLowReviews(data):\n",
    "    training = filter(lambda x: x[\"review_count\"] > 10, data)\n",
    "    predict = filter(lambda x: x[\"review_count\"] <= 10, data)\n",
    "    (X, y) = transform_to_XY(training)[:2]\n",
    "    (Xp, yp) = transform_to_XY(predict)[:2]\n",
    "    pca = PCA(n_components='mle')\n",
    "    pca.fit(X)\n",
    "    X = pca.transform(X)\n",
    "    model = RandomForestClassifier(n_estimators=100)\n",
    "    model.fit(X,y)\n",
    "    Xp = pca.transform(Xp)\n",
    "    result = model.predict(Xp)\n",
    "    return result\n",
    "\n",
    "results = trainModelToPredictLowReviews(data)\n",
    "results = Counter(results)\n",
    "rating_numbers = sorted(results)\n",
    "rating_counts = []\n",
    "for i in xrange(len(rating_numbers)):\n",
    "    rating_counts.append(results[rating_numbers[i]])\n",
    "for i in xrange(len(rating_numbers)):\n",
    "    rating_numbers[i] /= 2.0\n",
    "plt.bar(rating_numbers, rating_counts, 0.5, color=\"blue\", align = \"center\")\n",
    "plt.xlabel(\"Ratings\")\n",
    "plt.ylabel(\"Number of Restaurants\")\n",
    "plt.title(\"Yelp Ratings Distribution\")\n",
    "plt.show()"
   ]
  },
  {
   "cell_type": "markdown",
   "metadata": {},
   "source": [
    "Looking forward, we believe there are a number of things that may be able to improve upon the results we have obtained. Firstly, we think that using some form of NLP and text analytics on the customer reviews of a restaurant would provide valuable incite into the predicted rating of a restaurant. A potential problem with this is that our project is motivated by predicting the ratings of restaurants with few reviews, and this would be a problem if there was insufficient review text to analyze. Additionally, given more time we could collect an even larger data set, as the information from Yelp is (nearly) limitless compared to the subset that we had time to request and deal with. In the future, we think that some more subtle and difficult to collect features could be analyzed such as contents of the images or menus posted by the resaurant. "
   ]
  },
  {
   "cell_type": "markdown",
   "metadata": {},
   "source": [
    "## Appendix"
   ]
  },
  {
   "cell_type": "code",
   "execution_count": 73,
   "metadata": {
    "collapsed": true
   },
   "outputs": [],
   "source": [
    "def save_pickle(filename, data):\n",
    "    with open(filename, 'wb') as f:\n",
    "        pickle.dump(data, f)\n",
    "        \n",
    "def load_pickle(filename):\n",
    "    with open(filename, 'rb') as f:\n",
    "        return pickle.load(f)\n",
    "\n",
    "def authenticate(config_filepath):\n",
    "    creds = json.load(open(config_filepath))\n",
    "    auth = Oauth1Authenticator(**creds)\n",
    "    return Client(auth)\n",
    "\n",
    "def yelp_search(client, query):\n",
    "    res = client.search(query)\n",
    "    return (res.total, res.businesses)\n",
    "\n",
    "def all_restaurants(client, query, food):\n",
    "    B = []\n",
    "    while True:\n",
    "        try:\n",
    "            res = client.search(query,**{\"category_filter\":food,\"offset\" : len(B)})\n",
    "            if not res.businesses:\n",
    "                return B\n",
    "            B += res.businesses\n",
    "        except:\n",
    "            return B\n",
    "\n",
    "def get_cities_info(client, food, cities):\n",
    "    d = {}\n",
    "    for city in cities:\n",
    "        print \"requesting: \", city,\n",
    "        d[\"%s_%s\"%(city,food)] = all_restaurants(client,city,food)\n",
    "        print \": done\"\n",
    "    valids = filter(lambda x: len(d[x]) >= 10, d)\n",
    "    res = {v:d[v] for v in valids}\n",
    "    return res\n",
    "\n",
    "def get_all_cities():\n",
    "    with open(\"cities.txt\",'r') as f:\n",
    "        lines = map(lambda l: \", \".join(l.rstrip().split(\"\\t\")[1:3]),f.readlines())\n",
    "        return lines\n",
    "    \n",
    "def clean_business(b):\n",
    "    valids = [\"categories\", \"location\", \"name\", \"rating\", \"review_count\",\"url\"]\n",
    "    return {x : b.__dict__[x] for x in valids} \n",
    "    \n",
    "def clean_data(data):\n",
    "    new_data = {}\n",
    "    for city in data:\n",
    "        new_data[city] = map(clean_business, data[city])\n",
    "    return new_data\n",
    "    \n",
    "def get_data():\n",
    "    client = authenticate(\"secret.json\")\n",
    "    cities = get_all_cities()\n",
    "    data = get_cities_info(client, \"restaurant\", cities)\n",
    "    data = clean_data(data)\n",
    "    save_pickle(\"all_restaurants.pkl\", data)\n",
    "    \n",
    "#get_data()\n",
    "\n",
    "def retrieve_html(url):\n",
    "    html = requests.get(url)\n",
    "    return (html.status_code, html.content)\n",
    "\n",
    "\"\"\" Gets restaurant features from yelp html given a url for a restaurants page\n",
    "    returns a dictionary of the available features on the page (keys) with their \n",
    "    corresponding values \"\"\"\n",
    "def scrapeYelpFeatures(url):\n",
    "    (yolo, html) = retrieve_html(url)\n",
    "    \n",
    "    try:\n",
    "        imgs =  re.search(r\"See all [0-9]+\", html).group()\n",
    "        imgs = [int(s) for s in imgs.split() if s.isdigit()][0]\n",
    "    except:\n",
    "        imgs = 0\n",
    "    root = BeautifulSoup(html, \"html.parser\")\n",
    "    s = root.findAll(\"div\", {'class' : 'ywidget'})\n",
    "    \n",
    "    biz_features = {\"number_of_images\" : imgs}\n",
    "    for i in s:\n",
    "        h3_elem = i.find(\"h3\")\n",
    "        if h3_elem != None:\n",
    "            if 'More business info' in h3_elem:\n",
    "                biz_attr = i.find('ul', {'class' : 'ylist'}).findAll('dt', {'class' : 'attribute-key'})\n",
    "                biz_val = i.find('ul', {'class' : 'ylist'}).findAll('dd')\n",
    "\n",
    "                for (l,r) in zip(biz_attr, biz_val):\n",
    "                    biz_features[l.next_element.strip()] = r.next_element.strip()\n",
    "    return biz_features\n",
    "\n",
    "def add_feature_info(data, offset):\n",
    "    c = offset+1\n",
    "    for d in data[offset:]:\n",
    "        print \"%d of %d\"%(c,len(data))\n",
    "        features = scrapeYelpFeatures(d[\"url\"])\n",
    "        d.update(features)\n",
    "        c += 1\n",
    "        \n",
    "def get_feature_set(datalist):\n",
    "    features = set()\n",
    "    for f in datalist:\n",
    "        features |= set(f)\n",
    "    return features\n",
    "\n",
    "def fix_features(datalist):\n",
    "    features = get_feature_set(datalist)\n",
    "    for d in datalist:\n",
    "        for f in features:\n",
    "            if f not in d:\n",
    "                d[f] = None\n",
    "\n",
    "def get_random_data(data, n):\n",
    "    datalist = []\n",
    "    for d in data:\n",
    "        datalist += data[d]\n",
    "    return random.sample(datalist,n)"
   ]
  }
 ],
 "metadata": {
  "anaconda-cloud": {},
  "kernelspec": {
   "display_name": "Python [Root]",
   "language": "python",
   "name": "Python [Root]"
  },
  "language_info": {
   "codemirror_mode": {
    "name": "ipython",
    "version": 2
   },
   "file_extension": ".py",
   "mimetype": "text/x-python",
   "name": "python",
   "nbconvert_exporter": "python",
   "pygments_lexer": "ipython2",
   "version": "2.7.12"
  }
 },
 "nbformat": 4,
 "nbformat_minor": 1
}
