{
 "cells": [
  {
   "cell_type": "code",
   "execution_count": 54,
   "metadata": {
    "collapsed": false
   },
   "outputs": [],
   "source": [
    "import cPickle as pickle\n",
    "from sklearn import svm\n",
    "from sklearn.ensemble import RandomForestClassifier\n",
    "from sklearn.linear_model import LogisticRegression\n",
    "from sklearn.decomposition import PCA\n",
    "from collections import Counter\n",
    "import sklearn.cross_validation as cv\n",
    "import random\n",
    "import numpy as np\n",
    "from copy import deepcopy\n",
    "def load_pickle(filename):\n",
    "    with open(filename, 'rb') as f:\n",
    "        return pickle.load(f)"
   ]
  },
  {
   "cell_type": "code",
   "execution_count": 72,
   "metadata": {
    "collapsed": false
   },
   "outputs": [],
   "source": [
    "info = load_pickle(\"random.pkl\")\n"
   ]
  },
  {
   "cell_type": "code",
   "execution_count": 17,
   "metadata": {
    "collapsed": true
   },
   "outputs": [],
   "source": [
    "def accuracy(svm, X, y):\n",
    "    preds = svm.predict(X)\n",
    "    print Counter(preds)\n",
    "    wrong = 0\n",
    "    dist = 0\n",
    "    for (p,l) in zip(preds,y):\n",
    "        if int(p) != int(l):\n",
    "            wrong += 1\n",
    "            dist += abs(l-p)/2.0\n",
    "    print \"correct predictions: %f%%\"%((len(y)-wrong)/float(len(y)))\n",
    "    print \"average error: %f\"%(dist/wrong)"
   ]
  },
  {
   "cell_type": "code",
   "execution_count": 50,
   "metadata": {
    "collapsed": false
   },
   "outputs": [],
   "source": [
    "\n",
    "# Input is a list of dictionarys mapping features to values (defined in pickle) \n",
    "def transform_to_XY(info):\n",
    "    X = []\n",
    "    Y = []\n",
    "    feature_names = [i for i in info[0].keys()]\n",
    "    total_vals = {}\n",
    "    for x in feature_names:\n",
    "        total_vals[x] = set()\n",
    "    \n",
    "    to_ignore = set(['name', 'rating', 'location', 'categories', 'url', 'parking', 'Best Nights','Good For'])\n",
    "    \n",
    "    for res in info:\n",
    "        for k,v in res.items():\n",
    "            if k not in to_ignore: # Some features are of list type or already floats, or not primitive types\n",
    "                total_vals[k].add(v)\n",
    "    \n",
    "    #print total_vals\n",
    "    feature_value_map = {}\n",
    "    for k,v in total_vals.items():\n",
    "        z = 0\n",
    "        feature_value_map[k] = {}\n",
    "        for value in v:\n",
    "            feature_value_map[k][value] = z\n",
    "            z += 1\n",
    "            \n",
    "    features = deepcopy(info)\n",
    "    for b in features:\n",
    "        #b[\"nones\"] = sum([1 if b[f] == None else 0 for f in b])\n",
    "        try:\n",
    "            b[\"postal\"] = int(b[\"location\"].postal_code)\n",
    "        except:\n",
    "            b[\"postal\"] =  0\n",
    "        for f in to_ignore:\n",
    "            b.pop(f, None)\n",
    "        for f in b:\n",
    "            if f not in to_ignore and f in feature_value_map and b[f] in feature_value_map[f]:\n",
    "                if f not in [\"review_count\",'number_of_images']:\n",
    "                    b[f] = feature_value_map[f][b[f]]\n",
    "    features = [[d[f] for f in sorted(d.keys())] for d in features]\n",
    "    return (features, [f[\"rating\"]*2 for f in info])"
   ]
  },
  {
   "cell_type": "code",
   "execution_count": 57,
   "metadata": {
    "collapsed": false
   },
   "outputs": [
    {
     "name": "stdout",
     "output_type": "stream",
     "text": [
      "Counter({8.0: 1308})\n",
      "correct predictions: 0.342508%\n",
      "average error: 0.805814\n",
      "0.34250764526\n"
     ]
    }
   ],
   "source": [
    "clf = svm.SVC(kernel='rbf', tol = .001, probability = True)\n",
    "clf.fit(X, y)  \n",
    "accuracy(clf, Xp, yp)\n",
    "print clf.score(Xp,yp)"
   ]
  },
  {
   "cell_type": "code",
   "execution_count": 27,
   "metadata": {
    "collapsed": false
   },
   "outputs": [
    {
     "name": "stdout",
     "output_type": "stream",
     "text": [
      "Counter({8.0: 710, 7.0: 335, 9.0: 122, 6.0: 60, 10.0: 26, 5.0: 23, 4.0: 20, 2.0: 10, 3.0: 2})\n",
      "correct predictions: 0.382263%\n",
      "average error: 0.778465\n"
     ]
    }
   ],
   "source": [
    "clf2 = RandomForestClassifier(n_estimators=50)\n",
    "clf2 = clf2.fit(X, y)\n",
    "accuracy(clf2, Xp, yp)"
   ]
  },
  {
   "cell_type": "code",
   "execution_count": 60,
   "metadata": {
    "collapsed": false
   },
   "outputs": [
    {
     "name": "stdout",
     "output_type": "stream",
     "text": [
      "Counter({8.0: 1304, 10.0: 4})\n",
      "correct predictions: 0.342508%\n",
      "average error: 0.805814\n"
     ]
    }
   ],
   "source": [
    "clf3 = LogisticRegression()\n",
    "clf3 = clf3.fit(X, y)\n",
    "accuracy(clf3, Xp, yp)"
   ]
  },
  {
   "cell_type": "code",
   "execution_count": null,
   "metadata": {
    "collapsed": false
   },
   "outputs": [],
   "source": [
    "\n",
    "print Counter(yp)"
   ]
  },
  {
   "cell_type": "code",
   "execution_count": 137,
   "metadata": {
    "collapsed": false
   },
   "outputs": [
    {
     "name": "stdout",
     "output_type": "stream",
     "text": [
      "2977 2977\n"
     ]
    }
   ],
   "source": [
    "infotrain = filter(lambda x: x[\"review_count\"] > 50, info)\n",
    "#infotest = filter(lambda x: x[\"review_count\"] > 50, info)\n",
    "(X, y) = transform_to_XY(infotrain)\n",
    "pca = PCA(n_components=20)\n",
    "pca.fit(X)\n",
    "X = pca.transform(X)\n",
    "#X = new_info[:5000]\n",
    "#Xp = new_info[5000:]\n",
    "#yp = y[5000:]\n",
    "#y = y[:5000]\n",
    "print len(X),len(y)\n"
   ]
  },
  {
   "cell_type": "code",
   "execution_count": 81,
   "metadata": {
    "collapsed": false
   },
   "outputs": [
    {
     "name": "stdout",
     "output_type": "stream",
     "text": [
      "[[2.0, 0.012048192771084338], [3.0, 0.0212428662016487], [4.0, 0.0523145212428662], [5.0, 0.10478757133798351], [6.0, 0.21781864299302472], [7.0, 0.4524413443246671], [8.0, 0.7883639822447686], [9.0, 0.9576727964489538], [10.0, 1.0]]\n",
      "correct predictions: 0.336874%\n",
      "average error: 0.920631\n"
     ]
    }
   ],
   "source": [
    "c = Counter(y)\n",
    "vals = [[x, c[x]/float(len(y))] for x in c]\n",
    "for i in range(1,len(vals)):\n",
    "    vals[i][1] += vals[i-1][1]\n",
    "rands = []\n",
    "print vals\n",
    "for x in range(len(y)):\n",
    "    r = random.random()\n",
    "    i = 0\n",
    "    while r > vals[i][1]:\n",
    "        i += 1\n",
    "    rands.append(vals[i][0])\n",
    "\n",
    "wrong = 0\n",
    "dist = 0\n",
    "for (p,l) in zip(rands,y):\n",
    "    if int(p) != l:\n",
    "        wrong += 1\n",
    "        dist += abs(l-p)/2.0\n",
    "print \"correct predictions: %f%%\"%((len(y)-wrong)/float(len(y)))\n",
    "print \"average error: %f\"%(dist/wrong)\n"
   ]
  },
  {
   "cell_type": "code",
   "execution_count": 150,
   "metadata": {
    "collapsed": false
   },
   "outputs": [],
   "source": [
    "#averaging function from: http://scikit-learn.org/stable/modules/cross_validation.html\n",
    "\n",
    "def cross_val(model, folds):\n",
    "    (X, y) = transform_to_XY(infotrain)\n",
    "    pca = PCA(n_components='mle')\n",
    "    pca.fit(X)\n",
    "    X = pca.transform(X)\n",
    "    scores = cv.cross_val_score(model,X,y, cv = folds)\n",
    "    print scores\n",
    "    print(\"Accuracy: %0.2f (+/- %0.2f)\" % (scores.mean(), scores.std() * 2))"
   ]
  },
  {
   "cell_type": "code",
   "execution_count": 151,
   "metadata": {
    "collapsed": false
   },
   "outputs": [
    {
     "name": "stdout",
     "output_type": "stream",
     "text": [
      "38\n",
      "37\n",
      "[ 0.45333333  0.43288591  0.4487395   0.55555556  0.53378378]\n",
      "Accuracy: 0.48 (+/- 0.10)\n"
     ]
    }
   ],
   "source": [
    "cross_val(RandomForestClassifier(n_estimators=100),5)\n",
    "#cross_val(svm.SVC(kernel='sigmoid', tol = .001, probability = True),5)\n"
   ]
  },
  {
   "cell_type": "code",
   "execution_count": null,
   "metadata": {
    "collapsed": true
   },
   "outputs": [],
   "source": []
  },
  {
   "cell_type": "code",
   "execution_count": null,
   "metadata": {
    "collapsed": true
   },
   "outputs": [],
   "source": []
  }
 ],
 "metadata": {
  "kernelspec": {
   "display_name": "Python [Root]",
   "language": "python",
   "name": "Python [Root]"
  },
  "language_info": {
   "codemirror_mode": {
    "name": "ipython",
    "version": 2
   },
   "file_extension": ".py",
   "mimetype": "text/x-python",
   "name": "python",
   "nbconvert_exporter": "python",
   "pygments_lexer": "ipython2",
   "version": "2.7.12"
  }
 },
 "nbformat": 4,
 "nbformat_minor": 0
}
